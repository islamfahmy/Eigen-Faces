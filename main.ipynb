{
  "nbformat": 4,
  "nbformat_minor": 0,
  "metadata": {
    "colab": {
      "name": "Untitled5.ipynb",
      "provenance": [],
      "collapsed_sections": [],
      "include_colab_link": true
    },
    "kernelspec": {
      "display_name": "Python 3",
      "name": "python3"
    },
    "language_info": {
      "name": "python"
    }
  },
  "cells": [
    {
      "cell_type": "markdown",
      "metadata": {
        "id": "view-in-github",
        "colab_type": "text"
      },
      "source": [
        "<a href=\"https://colab.research.google.com/github/islamfahmy/Eigen-Faces/blob/main/main.ipynb\" target=\"_parent\"><img src=\"https://colab.research.google.com/assets/colab-badge.svg\" alt=\"Open In Colab\"/></a>"
      ]
    },
    {
      "cell_type": "code",
      "metadata": {
        "colab": {
          "base_uri": "https://localhost:8080/"
        },
        "id": "FCU5XAEsUZM_",
        "outputId": "3848d12f-8bec-40b3-c292-dc5305f9b750"
      },
      "source": [
        "!pip install --upgrade --force-reinstall --no-deps kaggle\n",
        "\n"
      ],
      "execution_count": null,
      "outputs": [
        {
          "output_type": "stream",
          "text": [
            "Collecting kaggle\n",
            "\u001b[?25l  Downloading https://files.pythonhosted.org/packages/3a/e7/3bac01547d2ed3d308ac92a0878fbdb0ed0f3d41fb1906c319ccbba1bfbc/kaggle-1.5.12.tar.gz (58kB)\n",
            "\r\u001b[K     |█████▋                          | 10kB 21.3MB/s eta 0:00:01\r\u001b[K     |███████████▏                    | 20kB 29.9MB/s eta 0:00:01\r\u001b[K     |████████████████▊               | 30kB 36.0MB/s eta 0:00:01\r\u001b[K     |██████████████████████▎         | 40kB 31.8MB/s eta 0:00:01\r\u001b[K     |███████████████████████████▉    | 51kB 15.0MB/s eta 0:00:01\r\u001b[K     |████████████████████████████████| 61kB 4.0MB/s \n",
            "\u001b[?25hBuilding wheels for collected packages: kaggle\n",
            "  Building wheel for kaggle (setup.py) ... \u001b[?25l\u001b[?25hdone\n",
            "  Created wheel for kaggle: filename=kaggle-1.5.12-cp37-none-any.whl size=73053 sha256=99c6275199cd77e28b682f9fbe90df5972de97f5ed9ceeec4bef15b63067c9a5\n",
            "  Stored in directory: /root/.cache/pip/wheels/a1/6a/26/d30b7499ff85a4a4593377a87ecf55f7d08af42f0de9b60303\n",
            "Successfully built kaggle\n",
            "Installing collected packages: kaggle\n",
            "  Found existing installation: kaggle 1.5.12\n",
            "    Uninstalling kaggle-1.5.12:\n",
            "      Successfully uninstalled kaggle-1.5.12\n",
            "Successfully installed kaggle-1.5.12\n"
          ],
          "name": "stdout"
        }
      ]
    },
    {
      "cell_type": "code",
      "metadata": {
        "colab": {
          "resources": {
            "http://localhost:8080/nbextensions/google.colab/files.js": {
              "data": "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",
              "ok": true,
              "headers": [
                [
                  "content-type",
                  "application/javascript"
                ]
              ],
              "status": 200,
              "status_text": ""
            }
          },
          "base_uri": "https://localhost:8080/",
          "height": 91
        },
        "id": "Y3IjFnQXUkhF",
        "outputId": "74907a17-606e-4e77-eb2e-990da3bf8433"
      },
      "source": [
        "from google.colab import files\n",
        "files.upload()\n",
        "\n"
      ],
      "execution_count": null,
      "outputs": [
        {
          "output_type": "display_data",
          "data": {
            "text/html": [
              "\n",
              "     <input type=\"file\" id=\"files-ecdb45c8-5489-4fcd-9e40-8a9c3091d5ac\" name=\"files[]\" multiple disabled\n",
              "        style=\"border:none\" />\n",
              "     <output id=\"result-ecdb45c8-5489-4fcd-9e40-8a9c3091d5ac\">\n",
              "      Upload widget is only available when the cell has been executed in the\n",
              "      current browser session. Please rerun this cell to enable.\n",
              "      </output>\n",
              "      <script src=\"/nbextensions/google.colab/files.js\"></script> "
            ],
            "text/plain": [
              "<IPython.core.display.HTML object>"
            ]
          },
          "metadata": {
            "tags": []
          }
        },
        {
          "output_type": "stream",
          "text": [
            "Saving kaggle.json to kaggle.json\n"
          ],
          "name": "stdout"
        },
        {
          "output_type": "execute_result",
          "data": {
            "text/plain": [
              "{'kaggle.json': b'{\"username\":\"sollytarek\",\"key\":\"08f4657aeea44416a20dcf562a0ec5f7\"}'}"
            ]
          },
          "metadata": {
            "tags": []
          },
          "execution_count": 2
        }
      ]
    },
    {
      "cell_type": "code",
      "metadata": {
        "id": "p-ynfHFYVUFY"
      },
      "source": [
        "! mkdir ~/.kaggle\n",
        "! cp kaggle.json ~/.kaggle/"
      ],
      "execution_count": null,
      "outputs": []
    },
    {
      "cell_type": "code",
      "metadata": {
        "id": "uvQfpWE1VdpF"
      },
      "source": [
        "! chmod 600 ~/.kaggle/kaggle.json"
      ],
      "execution_count": null,
      "outputs": []
    },
    {
      "cell_type": "code",
      "metadata": {
        "colab": {
          "base_uri": "https://localhost:8080/"
        },
        "id": "zvj3_LtdVhVF",
        "outputId": "56a858ca-d0ea-4a7c-b78a-b5774e1e61fc"
      },
      "source": [
        "! kaggle datasets list"
      ],
      "execution_count": null,
      "outputs": [
        {
          "output_type": "stream",
          "text": [
            "ref                                                         title                                              size  lastUpdated          downloadCount  voteCount  usabilityRating  \n",
            "----------------------------------------------------------  ------------------------------------------------  -----  -------------------  -------------  ---------  ---------------  \n",
            "gpreda/reddit-vaccine-myths                                 Reddit Vaccine Myths                              227KB  2021-04-30 20:52:11           3943        385  1.0              \n",
            "crowww/a-large-scale-fish-dataset                           A Large Scale Fish Dataset                          3GB  2021-04-28 17:03:01           2282        225  0.9375           \n",
            "promptcloud/careerbuilder-job-listing-2020                  Careerbuilder Job Listing 2020                     42MB  2021-03-05 06:59:52            501         24  1.0              \n",
            "dhruvildave/wikibooks-dataset                               Wikibooks Dataset                                   1GB  2021-02-18 10:08:27           1441        133  1.0              \n",
            "mathurinache/twitter-edge-nodes                             Twitter Edge Nodes                                342MB  2021-03-08 06:43:04            225         25  1.0              \n",
            "imsparsh/musicnet-dataset                                   MusicNet Dataset                                   22GB  2021-02-18 14:12:19            810         72  1.0              \n",
            "simiotic/github-code-snippets                               GitHub Code Snippets                                7GB  2021-03-03 11:34:39             83         33  1.0              \n",
            "nickuzmenkov/nih-chest-xrays-tfrecords                      NIH Chest X-rays TFRecords                         11GB  2021-03-09 04:49:23            344         19  0.9411765        \n",
            "alsgroup/end-als                                            End ALS Kaggle Challenge                           12GB  2021-04-08 12:16:37            541         81  0.9375           \n",
            "fatiimaezzahra/famous-iconic-women                          Famous Iconic Women                               838MB  2021-02-28 14:56:00            473         44  0.75             \n",
            "landrykezebou/lvzhdr-tone-mapping-benchmark-dataset-tmonet  LVZ-HDR Tone Mapping Benchmark Dataset (TMO-Net)   24GB  2021-03-01 05:03:40             56         13  0.6875           \n",
            "coloradokb/dandelionimages                                  DandelionImages                                     4GB  2021-02-19 20:03:47            203         14  0.75             \n",
            "mathurinache/the-lj-speech-dataset                          The LJ Speech Dataset                               3GB  2021-02-15 09:19:54            105         26  1.0              \n",
            "nickuzmenkov/ranzcr-clip-kfold-tfrecords                    RANZCR CLiP KFold TFRecords                         2GB  2021-02-21 13:29:51             64         14  0.875            \n",
            "stuartjames/lights                                          LightS: Light Specularity Dataset                  18GB  2021-02-18 14:32:26             39         16  0.6875           \n",
            "imsparsh/accentdb-core-extended                             AccentDB - Core & Extended                          6GB  2021-02-17 14:22:54             47         17  0.8125           \n",
            "datasnaek/youtube-new                                       Trending YouTube Video Statistics                 201MB  2019-06-03 00:56:47         137926       3914  0.7941176        \n",
            "zynicide/wine-reviews                                       Wine Reviews                                       51MB  2017-11-27 17:08:04         135027       3038  0.7941176        \n",
            "rtatman/188-million-us-wildfires                            1.88 Million US Wildfires                         168MB  2020-05-12 21:03:49          15219        764  0.8235294        \n",
            "datasnaek/chess                                             Chess Game Dataset (Lichess)                        3MB  2017-09-04 03:09:09          17337        690  0.8235294        \n"
          ],
          "name": "stdout"
        }
      ]
    },
    {
      "cell_type": "code",
      "metadata": {
        "colab": {
          "base_uri": "https://localhost:8080/"
        },
        "id": "CrZAcyhjWABv",
        "outputId": "03d1a3a9-96ad-4eaa-ae3b-bc39ae5e0b58"
      },
      "source": [
        " ! kaggle datasets download kasikrit/att-database-of-faces"
      ],
      "execution_count": null,
      "outputs": [
        {
          "output_type": "stream",
          "text": [
            "Downloading att-database-of-faces.zip to /content\n",
            "\r  0% 0.00/3.61M [00:00<?, ?B/s]\n",
            "\r100% 3.61M/3.61M [00:00<00:00, 230MB/s]\n"
          ],
          "name": "stdout"
        }
      ]
    },
    {
      "cell_type": "code",
      "metadata": {
        "colab": {
          "base_uri": "https://localhost:8080/"
        },
        "id": "yVF-JILHWaKd",
        "outputId": "0004673f-0d71-4457-d1d6-8525c5f2623a"
      },
      "source": [
        "! mkdir ORL\n",
        "! unzip att-database-of-faces.zip -d ORL\n"
      ],
      "execution_count": null,
      "outputs": [
        {
          "output_type": "stream",
          "text": [
            "Archive:  att-database-of-faces.zip\n",
            "  inflating: ORL/README              \n",
            "  inflating: ORL/s1/1.pgm            \n",
            "  inflating: ORL/s1/10.pgm           \n",
            "  inflating: ORL/s1/2.pgm            \n",
            "  inflating: ORL/s1/3.pgm            \n",
            "  inflating: ORL/s1/4.pgm            \n",
            "  inflating: ORL/s1/5.pgm            \n",
            "  inflating: ORL/s1/6.pgm            \n",
            "  inflating: ORL/s1/7.pgm            \n",
            "  inflating: ORL/s1/8.pgm            \n",
            "  inflating: ORL/s1/9.pgm            \n",
            "  inflating: ORL/s10/1.pgm           \n",
            "  inflating: ORL/s10/10.pgm          \n",
            "  inflating: ORL/s10/2.pgm           \n",
            "  inflating: ORL/s10/3.pgm           \n",
            "  inflating: ORL/s10/4.pgm           \n",
            "  inflating: ORL/s10/5.pgm           \n",
            "  inflating: ORL/s10/6.pgm           \n",
            "  inflating: ORL/s10/7.pgm           \n",
            "  inflating: ORL/s10/8.pgm           \n",
            "  inflating: ORL/s10/9.pgm           \n",
            "  inflating: ORL/s11/1.pgm           \n",
            "  inflating: ORL/s11/10.pgm          \n",
            "  inflating: ORL/s11/2.pgm           \n",
            "  inflating: ORL/s11/3.pgm           \n",
            "  inflating: ORL/s11/4.pgm           \n",
            "  inflating: ORL/s11/5.pgm           \n",
            "  inflating: ORL/s11/6.pgm           \n",
            "  inflating: ORL/s11/7.pgm           \n",
            "  inflating: ORL/s11/8.pgm           \n",
            "  inflating: ORL/s11/9.pgm           \n",
            "  inflating: ORL/s12/1.pgm           \n",
            "  inflating: ORL/s12/10.pgm          \n",
            "  inflating: ORL/s12/2.pgm           \n",
            "  inflating: ORL/s12/3.pgm           \n",
            "  inflating: ORL/s12/4.pgm           \n",
            "  inflating: ORL/s12/5.pgm           \n",
            "  inflating: ORL/s12/6.pgm           \n",
            "  inflating: ORL/s12/7.pgm           \n",
            "  inflating: ORL/s12/8.pgm           \n",
            "  inflating: ORL/s12/9.pgm           \n",
            "  inflating: ORL/s13/1.pgm           \n",
            "  inflating: ORL/s13/10.pgm          \n",
            "  inflating: ORL/s13/2.pgm           \n",
            "  inflating: ORL/s13/3.pgm           \n",
            "  inflating: ORL/s13/4.pgm           \n",
            "  inflating: ORL/s13/5.pgm           \n",
            "  inflating: ORL/s13/6.pgm           \n",
            "  inflating: ORL/s13/7.pgm           \n",
            "  inflating: ORL/s13/8.pgm           \n",
            "  inflating: ORL/s13/9.pgm           \n",
            "  inflating: ORL/s14/1.pgm           \n",
            "  inflating: ORL/s14/10.pgm          \n",
            "  inflating: ORL/s14/2.pgm           \n",
            "  inflating: ORL/s14/3.pgm           \n",
            "  inflating: ORL/s14/4.pgm           \n",
            "  inflating: ORL/s14/5.pgm           \n",
            "  inflating: ORL/s14/6.pgm           \n",
            "  inflating: ORL/s14/7.pgm           \n",
            "  inflating: ORL/s14/8.pgm           \n",
            "  inflating: ORL/s14/9.pgm           \n",
            "  inflating: ORL/s15/1.pgm           \n",
            "  inflating: ORL/s15/10.pgm          \n",
            "  inflating: ORL/s15/2.pgm           \n",
            "  inflating: ORL/s15/3.pgm           \n",
            "  inflating: ORL/s15/4.pgm           \n",
            "  inflating: ORL/s15/5.pgm           \n",
            "  inflating: ORL/s15/6.pgm           \n",
            "  inflating: ORL/s15/7.pgm           \n",
            "  inflating: ORL/s15/8.pgm           \n",
            "  inflating: ORL/s15/9.pgm           \n",
            "  inflating: ORL/s16/1.pgm           \n",
            "  inflating: ORL/s16/10.pgm          \n",
            "  inflating: ORL/s16/2.pgm           \n",
            "  inflating: ORL/s16/3.pgm           \n",
            "  inflating: ORL/s16/4.pgm           \n",
            "  inflating: ORL/s16/5.pgm           \n",
            "  inflating: ORL/s16/6.pgm           \n",
            "  inflating: ORL/s16/7.pgm           \n",
            "  inflating: ORL/s16/8.pgm           \n",
            "  inflating: ORL/s16/9.pgm           \n",
            "  inflating: ORL/s17/1.pgm           \n",
            "  inflating: ORL/s17/10.pgm          \n",
            "  inflating: ORL/s17/2.pgm           \n",
            "  inflating: ORL/s17/3.pgm           \n",
            "  inflating: ORL/s17/4.pgm           \n",
            "  inflating: ORL/s17/5.pgm           \n",
            "  inflating: ORL/s17/6.pgm           \n",
            "  inflating: ORL/s17/7.pgm           \n",
            "  inflating: ORL/s17/8.pgm           \n",
            "  inflating: ORL/s17/9.pgm           \n",
            "  inflating: ORL/s18/1.pgm           \n",
            "  inflating: ORL/s18/10.pgm          \n",
            "  inflating: ORL/s18/2.pgm           \n",
            "  inflating: ORL/s18/3.pgm           \n",
            "  inflating: ORL/s18/4.pgm           \n",
            "  inflating: ORL/s18/5.pgm           \n",
            "  inflating: ORL/s18/6.pgm           \n",
            "  inflating: ORL/s18/7.pgm           \n",
            "  inflating: ORL/s18/8.pgm           \n",
            "  inflating: ORL/s18/9.pgm           \n",
            "  inflating: ORL/s19/1.pgm           \n",
            "  inflating: ORL/s19/10.pgm          \n",
            "  inflating: ORL/s19/2.pgm           \n",
            "  inflating: ORL/s19/3.pgm           \n",
            "  inflating: ORL/s19/4.pgm           \n",
            "  inflating: ORL/s19/5.pgm           \n",
            "  inflating: ORL/s19/6.pgm           \n",
            "  inflating: ORL/s19/7.pgm           \n",
            "  inflating: ORL/s19/8.pgm           \n",
            "  inflating: ORL/s19/9.pgm           \n",
            "  inflating: ORL/s2/1.pgm            \n",
            "  inflating: ORL/s2/10.pgm           \n",
            "  inflating: ORL/s2/2.pgm            \n",
            "  inflating: ORL/s2/3.pgm            \n",
            "  inflating: ORL/s2/4.pgm            \n",
            "  inflating: ORL/s2/5.pgm            \n",
            "  inflating: ORL/s2/6.pgm            \n",
            "  inflating: ORL/s2/7.pgm            \n",
            "  inflating: ORL/s2/8.pgm            \n",
            "  inflating: ORL/s2/9.pgm            \n",
            "  inflating: ORL/s20/1.pgm           \n",
            "  inflating: ORL/s20/10.pgm          \n",
            "  inflating: ORL/s20/2.pgm           \n",
            "  inflating: ORL/s20/3.pgm           \n",
            "  inflating: ORL/s20/4.pgm           \n",
            "  inflating: ORL/s20/5.pgm           \n",
            "  inflating: ORL/s20/6.pgm           \n",
            "  inflating: ORL/s20/7.pgm           \n",
            "  inflating: ORL/s20/8.pgm           \n",
            "  inflating: ORL/s20/9.pgm           \n",
            "  inflating: ORL/s21/1.pgm           \n",
            "  inflating: ORL/s21/10.pgm          \n",
            "  inflating: ORL/s21/2.pgm           \n",
            "  inflating: ORL/s21/3.pgm           \n",
            "  inflating: ORL/s21/4.pgm           \n",
            "  inflating: ORL/s21/5.pgm           \n",
            "  inflating: ORL/s21/6.pgm           \n",
            "  inflating: ORL/s21/7.pgm           \n",
            "  inflating: ORL/s21/8.pgm           \n",
            "  inflating: ORL/s21/9.pgm           \n",
            "  inflating: ORL/s22/1.pgm           \n",
            "  inflating: ORL/s22/10.pgm          \n",
            "  inflating: ORL/s22/2.pgm           \n",
            "  inflating: ORL/s22/3.pgm           \n",
            "  inflating: ORL/s22/4.pgm           \n",
            "  inflating: ORL/s22/5.pgm           \n",
            "  inflating: ORL/s22/6.pgm           \n",
            "  inflating: ORL/s22/7.pgm           \n",
            "  inflating: ORL/s22/8.pgm           \n",
            "  inflating: ORL/s22/9.pgm           \n",
            "  inflating: ORL/s23/1.pgm           \n",
            "  inflating: ORL/s23/10.pgm          \n",
            "  inflating: ORL/s23/2.pgm           \n",
            "  inflating: ORL/s23/3.pgm           \n",
            "  inflating: ORL/s23/4.pgm           \n",
            "  inflating: ORL/s23/5.pgm           \n",
            "  inflating: ORL/s23/6.pgm           \n",
            "  inflating: ORL/s23/7.pgm           \n",
            "  inflating: ORL/s23/8.pgm           \n",
            "  inflating: ORL/s23/9.pgm           \n",
            "  inflating: ORL/s24/1.pgm           \n",
            "  inflating: ORL/s24/10.pgm          \n",
            "  inflating: ORL/s24/2.pgm           \n",
            "  inflating: ORL/s24/3.pgm           \n",
            "  inflating: ORL/s24/4.pgm           \n",
            "  inflating: ORL/s24/5.pgm           \n",
            "  inflating: ORL/s24/6.pgm           \n",
            "  inflating: ORL/s24/7.pgm           \n",
            "  inflating: ORL/s24/8.pgm           \n",
            "  inflating: ORL/s24/9.pgm           \n",
            "  inflating: ORL/s25/1.pgm           \n",
            "  inflating: ORL/s25/10.pgm          \n",
            "  inflating: ORL/s25/2.pgm           \n",
            "  inflating: ORL/s25/3.pgm           \n",
            "  inflating: ORL/s25/4.pgm           \n",
            "  inflating: ORL/s25/5.pgm           \n",
            "  inflating: ORL/s25/6.pgm           \n",
            "  inflating: ORL/s25/7.pgm           \n",
            "  inflating: ORL/s25/8.pgm           \n",
            "  inflating: ORL/s25/9.pgm           \n",
            "  inflating: ORL/s26/1.pgm           \n",
            "  inflating: ORL/s26/10.pgm          \n",
            "  inflating: ORL/s26/2.pgm           \n",
            "  inflating: ORL/s26/3.pgm           \n",
            "  inflating: ORL/s26/4.pgm           \n",
            "  inflating: ORL/s26/5.pgm           \n",
            "  inflating: ORL/s26/6.pgm           \n",
            "  inflating: ORL/s26/7.pgm           \n",
            "  inflating: ORL/s26/8.pgm           \n",
            "  inflating: ORL/s26/9.pgm           \n",
            "  inflating: ORL/s27/1.pgm           \n",
            "  inflating: ORL/s27/10.pgm          \n",
            "  inflating: ORL/s27/2.pgm           \n",
            "  inflating: ORL/s27/3.pgm           \n",
            "  inflating: ORL/s27/4.pgm           \n",
            "  inflating: ORL/s27/5.pgm           \n",
            "  inflating: ORL/s27/6.pgm           \n",
            "  inflating: ORL/s27/7.pgm           \n",
            "  inflating: ORL/s27/8.pgm           \n",
            "  inflating: ORL/s27/9.pgm           \n",
            "  inflating: ORL/s28/1.pgm           \n",
            "  inflating: ORL/s28/10.pgm          \n",
            "  inflating: ORL/s28/2.pgm           \n",
            "  inflating: ORL/s28/3.pgm           \n",
            "  inflating: ORL/s28/4.pgm           \n",
            "  inflating: ORL/s28/5.pgm           \n",
            "  inflating: ORL/s28/6.pgm           \n",
            "  inflating: ORL/s28/7.pgm           \n",
            "  inflating: ORL/s28/8.pgm           \n",
            "  inflating: ORL/s28/9.pgm           \n",
            "  inflating: ORL/s29/1.pgm           \n",
            "  inflating: ORL/s29/10.pgm          \n",
            "  inflating: ORL/s29/2.pgm           \n",
            "  inflating: ORL/s29/3.pgm           \n",
            "  inflating: ORL/s29/4.pgm           \n",
            "  inflating: ORL/s29/5.pgm           \n",
            "  inflating: ORL/s29/6.pgm           \n",
            "  inflating: ORL/s29/7.pgm           \n",
            "  inflating: ORL/s29/8.pgm           \n",
            "  inflating: ORL/s29/9.pgm           \n",
            "  inflating: ORL/s3/1.pgm            \n",
            "  inflating: ORL/s3/10.pgm           \n",
            "  inflating: ORL/s3/2.pgm            \n",
            "  inflating: ORL/s3/3.pgm            \n",
            "  inflating: ORL/s3/4.pgm            \n",
            "  inflating: ORL/s3/5.pgm            \n",
            "  inflating: ORL/s3/6.pgm            \n",
            "  inflating: ORL/s3/7.pgm            \n",
            "  inflating: ORL/s3/8.pgm            \n",
            "  inflating: ORL/s3/9.pgm            \n",
            "  inflating: ORL/s30/1.pgm           \n",
            "  inflating: ORL/s30/10.pgm          \n",
            "  inflating: ORL/s30/2.pgm           \n",
            "  inflating: ORL/s30/3.pgm           \n",
            "  inflating: ORL/s30/4.pgm           \n",
            "  inflating: ORL/s30/5.pgm           \n",
            "  inflating: ORL/s30/6.pgm           \n",
            "  inflating: ORL/s30/7.pgm           \n",
            "  inflating: ORL/s30/8.pgm           \n",
            "  inflating: ORL/s30/9.pgm           \n",
            "  inflating: ORL/s31/1.pgm           \n",
            "  inflating: ORL/s31/10.pgm          \n",
            "  inflating: ORL/s31/2.pgm           \n",
            "  inflating: ORL/s31/3.pgm           \n",
            "  inflating: ORL/s31/4.pgm           \n",
            "  inflating: ORL/s31/5.pgm           \n",
            "  inflating: ORL/s31/6.pgm           \n",
            "  inflating: ORL/s31/7.pgm           \n",
            "  inflating: ORL/s31/8.pgm           \n",
            "  inflating: ORL/s31/9.pgm           \n",
            "  inflating: ORL/s32/1.pgm           \n",
            "  inflating: ORL/s32/10.pgm          \n",
            "  inflating: ORL/s32/2.pgm           \n",
            "  inflating: ORL/s32/3.pgm           \n",
            "  inflating: ORL/s32/4.pgm           \n",
            "  inflating: ORL/s32/5.pgm           \n",
            "  inflating: ORL/s32/6.pgm           \n",
            "  inflating: ORL/s32/7.pgm           \n",
            "  inflating: ORL/s32/8.pgm           \n",
            "  inflating: ORL/s32/9.pgm           \n",
            "  inflating: ORL/s33/1.pgm           \n",
            "  inflating: ORL/s33/10.pgm          \n",
            "  inflating: ORL/s33/2.pgm           \n",
            "  inflating: ORL/s33/3.pgm           \n",
            "  inflating: ORL/s33/4.pgm           \n",
            "  inflating: ORL/s33/5.pgm           \n",
            "  inflating: ORL/s33/6.pgm           \n",
            "  inflating: ORL/s33/7.pgm           \n",
            "  inflating: ORL/s33/8.pgm           \n",
            "  inflating: ORL/s33/9.pgm           \n",
            "  inflating: ORL/s34/1.pgm           \n",
            "  inflating: ORL/s34/10.pgm          \n",
            "  inflating: ORL/s34/2.pgm           \n",
            "  inflating: ORL/s34/3.pgm           \n",
            "  inflating: ORL/s34/4.pgm           \n",
            "  inflating: ORL/s34/5.pgm           \n",
            "  inflating: ORL/s34/6.pgm           \n",
            "  inflating: ORL/s34/7.pgm           \n",
            "  inflating: ORL/s34/8.pgm           \n",
            "  inflating: ORL/s34/9.pgm           \n",
            "  inflating: ORL/s35/1.pgm           \n",
            "  inflating: ORL/s35/10.pgm          \n",
            "  inflating: ORL/s35/2.pgm           \n",
            "  inflating: ORL/s35/3.pgm           \n",
            "  inflating: ORL/s35/4.pgm           \n",
            "  inflating: ORL/s35/5.pgm           \n",
            "  inflating: ORL/s35/6.pgm           \n",
            "  inflating: ORL/s35/7.pgm           \n",
            "  inflating: ORL/s35/8.pgm           \n",
            "  inflating: ORL/s35/9.pgm           \n",
            "  inflating: ORL/s36/1.pgm           \n",
            "  inflating: ORL/s36/10.pgm          \n",
            "  inflating: ORL/s36/2.pgm           \n",
            "  inflating: ORL/s36/3.pgm           \n",
            "  inflating: ORL/s36/4.pgm           \n",
            "  inflating: ORL/s36/5.pgm           \n",
            "  inflating: ORL/s36/6.pgm           \n",
            "  inflating: ORL/s36/7.pgm           \n",
            "  inflating: ORL/s36/8.pgm           \n",
            "  inflating: ORL/s36/9.pgm           \n",
            "  inflating: ORL/s37/1.pgm           \n",
            "  inflating: ORL/s37/10.pgm          \n",
            "  inflating: ORL/s37/2.pgm           \n",
            "  inflating: ORL/s37/3.pgm           \n",
            "  inflating: ORL/s37/4.pgm           \n",
            "  inflating: ORL/s37/5.pgm           \n",
            "  inflating: ORL/s37/6.pgm           \n",
            "  inflating: ORL/s37/7.pgm           \n",
            "  inflating: ORL/s37/8.pgm           \n",
            "  inflating: ORL/s37/9.pgm           \n",
            "  inflating: ORL/s38/1.pgm           \n",
            "  inflating: ORL/s38/10.pgm          \n",
            "  inflating: ORL/s38/2.pgm           \n",
            "  inflating: ORL/s38/3.pgm           \n",
            "  inflating: ORL/s38/4.pgm           \n",
            "  inflating: ORL/s38/5.pgm           \n",
            "  inflating: ORL/s38/6.pgm           \n",
            "  inflating: ORL/s38/7.pgm           \n",
            "  inflating: ORL/s38/8.pgm           \n",
            "  inflating: ORL/s38/9.pgm           \n",
            "  inflating: ORL/s39/1.pgm           \n",
            "  inflating: ORL/s39/10.pgm          \n",
            "  inflating: ORL/s39/2.pgm           \n",
            "  inflating: ORL/s39/3.pgm           \n",
            "  inflating: ORL/s39/4.pgm           \n",
            "  inflating: ORL/s39/5.pgm           \n",
            "  inflating: ORL/s39/6.pgm           \n",
            "  inflating: ORL/s39/7.pgm           \n",
            "  inflating: ORL/s39/8.pgm           \n",
            "  inflating: ORL/s39/9.pgm           \n",
            "  inflating: ORL/s4/1.pgm            \n",
            "  inflating: ORL/s4/10.pgm           \n",
            "  inflating: ORL/s4/2.pgm            \n",
            "  inflating: ORL/s4/3.pgm            \n",
            "  inflating: ORL/s4/4.pgm            \n",
            "  inflating: ORL/s4/5.pgm            \n",
            "  inflating: ORL/s4/6.pgm            \n",
            "  inflating: ORL/s4/7.pgm            \n",
            "  inflating: ORL/s4/8.pgm            \n",
            "  inflating: ORL/s4/9.pgm            \n",
            "  inflating: ORL/s40/1.pgm           \n",
            "  inflating: ORL/s40/10.pgm          \n",
            "  inflating: ORL/s40/2.pgm           \n",
            "  inflating: ORL/s40/3.pgm           \n",
            "  inflating: ORL/s40/4.pgm           \n",
            "  inflating: ORL/s40/5.pgm           \n",
            "  inflating: ORL/s40/6.pgm           \n",
            "  inflating: ORL/s40/7.pgm           \n",
            "  inflating: ORL/s40/8.pgm           \n",
            "  inflating: ORL/s40/9.pgm           \n",
            "  inflating: ORL/s5/1.pgm            \n",
            "  inflating: ORL/s5/10.pgm           \n",
            "  inflating: ORL/s5/2.pgm            \n",
            "  inflating: ORL/s5/3.pgm            \n",
            "  inflating: ORL/s5/4.pgm            \n",
            "  inflating: ORL/s5/5.pgm            \n",
            "  inflating: ORL/s5/6.pgm            \n",
            "  inflating: ORL/s5/7.pgm            \n",
            "  inflating: ORL/s5/8.pgm            \n",
            "  inflating: ORL/s5/9.pgm            \n",
            "  inflating: ORL/s6/1.pgm            \n",
            "  inflating: ORL/s6/10.pgm           \n",
            "  inflating: ORL/s6/2.pgm            \n",
            "  inflating: ORL/s6/3.pgm            \n",
            "  inflating: ORL/s6/4.pgm            \n",
            "  inflating: ORL/s6/5.pgm            \n",
            "  inflating: ORL/s6/6.pgm            \n",
            "  inflating: ORL/s6/7.pgm            \n",
            "  inflating: ORL/s6/8.pgm            \n",
            "  inflating: ORL/s6/9.pgm            \n",
            "  inflating: ORL/s7/1.pgm            \n",
            "  inflating: ORL/s7/10.pgm           \n",
            "  inflating: ORL/s7/2.pgm            \n",
            "  inflating: ORL/s7/3.pgm            \n",
            "  inflating: ORL/s7/4.pgm            \n",
            "  inflating: ORL/s7/5.pgm            \n",
            "  inflating: ORL/s7/6.pgm            \n",
            "  inflating: ORL/s7/7.pgm            \n",
            "  inflating: ORL/s7/8.pgm            \n",
            "  inflating: ORL/s7/9.pgm            \n",
            "  inflating: ORL/s8/1.pgm            \n",
            "  inflating: ORL/s8/10.pgm           \n",
            "  inflating: ORL/s8/2.pgm            \n",
            "  inflating: ORL/s8/3.pgm            \n",
            "  inflating: ORL/s8/4.pgm            \n",
            "  inflating: ORL/s8/5.pgm            \n",
            "  inflating: ORL/s8/6.pgm            \n",
            "  inflating: ORL/s8/7.pgm            \n",
            "  inflating: ORL/s8/8.pgm            \n",
            "  inflating: ORL/s8/9.pgm            \n",
            "  inflating: ORL/s9/1.pgm            \n",
            "  inflating: ORL/s9/10.pgm           \n",
            "  inflating: ORL/s9/2.pgm            \n",
            "  inflating: ORL/s9/3.pgm            \n",
            "  inflating: ORL/s9/4.pgm            \n",
            "  inflating: ORL/s9/5.pgm            \n",
            "  inflating: ORL/s9/6.pgm            \n",
            "  inflating: ORL/s9/7.pgm            \n",
            "  inflating: ORL/s9/8.pgm            \n",
            "  inflating: ORL/s9/9.pgm            \n"
          ],
          "name": "stdout"
        }
      ]
    },
    {
      "cell_type": "code",
      "metadata": {
        "id": "AJIotN56Wwh_"
      },
      "source": [
        "import os\n",
        "from skimage.io import imread\n",
        "import numpy as np\n",
        "os.chdir('/content/ORL')\n",
        "directory = os.getcwd()\n",
        "files=os.listdir(directory)\n",
        "\n",
        "files.remove('README')\n",
        "files = sorted(files, key=lambda x: int(x[1:]))\n",
        "Dataset=[]\n",
        "y=[]\n",
        "\n",
        "Y=0\n",
        "\n",
        "for filename in files:\n",
        "    Y+=1\n",
        "    each_file=os.listdir(filename)\n",
        "    each_file.sort()\n",
        "    each_file = sorted(each_file, key=lambda x: int(x[:-4]))\n",
        "    for image in each_file:\n",
        "      img = imread(os.getcwd()+'/'+filename+'/'+image)\n",
        "      Dataset.append(img.flatten())\n",
        "      y.append(Y)\n",
        "\n",
        "labels=np.array(y)\n",
        "data=np.array(Dataset)\n",
        "\n"
      ],
      "execution_count": null,
      "outputs": []
    },
    {
      "cell_type": "code",
      "metadata": {
        "colab": {
          "base_uri": "https://localhost:8080/"
        },
        "id": "QxO5iLY57MDK",
        "outputId": "c974a626-ca3f-41ac-e9d1-a1d50ed1a21d"
      },
      "source": [
        "train = data[::2,:]\n",
        "train_labels =labels[::2]\n",
        "test_labels = labels[1::2]\n",
        "test =data[1::2,:]\n",
        "print(train.shape)\n",
        "print(test.shape)"
      ],
      "execution_count": null,
      "outputs": [
        {
          "output_type": "stream",
          "text": [
            "(200, 10304)\n",
            "(200, 10304)\n"
          ],
          "name": "stdout"
        }
      ]
    },
    {
      "cell_type": "markdown",
      "metadata": {
        "id": "mlIYp-RiUMZV"
      },
      "source": [
        "Performin PCA\n"
      ]
    },
    {
      "cell_type": "code",
      "metadata": {
        "colab": {
          "base_uri": "https://localhost:8080/"
        },
        "id": "yYOkE3SQ7OnL",
        "outputId": "da4e465c-d284-40dc-8095-862ea2c93a5d"
      },
      "source": [
        "mean = np.mean(train,axis=0)\n",
        "print(mean.shape)"
      ],
      "execution_count": null,
      "outputs": [
        {
          "output_type": "stream",
          "text": [
            "(10304,)\n"
          ],
          "name": "stdout"
        }
      ]
    },
    {
      "cell_type": "code",
      "metadata": {
        "colab": {
          "base_uri": "https://localhost:8080/"
        },
        "id": "aGPYjzRx9KZG",
        "outputId": "21155931-f42c-42f1-b1c6-5cc2df45b161"
      },
      "source": [
        "z= train - mean\n",
        "cov = np.cov(z.T)\n",
        "print(z.shape)\n",
        "cov.dtype"
      ],
      "execution_count": null,
      "outputs": [
        {
          "output_type": "stream",
          "text": [
            "(200, 10304)\n"
          ],
          "name": "stdout"
        },
        {
          "output_type": "execute_result",
          "data": {
            "text/plain": [
              "dtype('float64')"
            ]
          },
          "metadata": {
            "tags": []
          },
          "execution_count": 16
        }
      ]
    },
    {
      "cell_type": "code",
      "metadata": {
        "id": "Tk5wTXEkZohB"
      },
      "source": [
        "eigVal,eigVec=np.linalg.eigh(cov.T)"
      ],
      "execution_count": null,
      "outputs": []
    },
    {
      "cell_type": "code",
      "metadata": {
        "id": "Vbwh3De0wV_J"
      },
      "source": [
        "idx = eigVal.argsort()[::-1]\n",
        "eval = eigVal[idx]\n",
        "evec = eigVec[:,idx]\n"
      ],
      "execution_count": null,
      "outputs": []
    },
    {
      "cell_type": "code",
      "metadata": {
        "colab": {
          "base_uri": "https://localhost:8080/"
        },
        "id": "uT2cjBiZ5g2d",
        "outputId": "5b861e0f-7568-416d-cca9-700e078243fd"
      },
      "source": [
        "eval = np.array(eval)\n",
        "evec= np.array(evec)\n",
        "r=eval/np.sum((eval))\n",
        "alpha =[0.8,0.85,0.9,0.95,0.99]\n",
        "index= 0 \n",
        "sum = 0\n",
        "no =0;\n",
        "ans=[]\n",
        "for i in r :\n",
        "  if index>=len(alpha) :\n",
        "    break\n",
        "  sum+=i \n",
        "  while  index<len(alpha) and sum >=alpha[index]:\n",
        "    index+=1\n",
        "    ans.append(no)\n",
        "  no+=1\n",
        "print(ans)\n"
      ],
      "execution_count": null,
      "outputs": [
        {
          "output_type": "stream",
          "text": [
            "[35, 50, 75, 114, 172]\n"
          ],
          "name": "stdout"
        }
      ]
    },
    {
      "cell_type": "code",
      "metadata": {
        "colab": {
          "base_uri": "https://localhost:8080/"
        },
        "id": "R2exGrWgAWrI",
        "outputId": "997d18e4-2347-45b2-cd1c-9d9c5bc21f00"
      },
      "source": [
        "from sklearn.neighbors import KNeighborsClassifier\n",
        "neighbors = [1]\n",
        "for i in ans :\n",
        "  projected_train1=np.dot(train,evec[:,0:i])\n",
        "  projected_test1=np.dot(test,evec[:,0:i])\n",
        "  neigh = KNeighborsClassifier(n_neighbors=1,weights = 'distance')\n",
        "  neigh.fit(projected_train1,train_labels)\n",
        "  print(neigh.score(projected_test1,test_labels))\n",
        "\n",
        "  "
      ],
      "execution_count": null,
      "outputs": [
        {
          "output_type": "stream",
          "text": [
            "0.95\n",
            "0.95\n",
            "0.94\n",
            "0.94\n",
            "0.94\n"
          ],
          "name": "stdout"
        }
      ]
    },
    {
      "cell_type": "markdown",
      "metadata": {
        "id": "q3tauiBpUTcL"
      },
      "source": [
        "Performing LDA\n"
      ]
    },
    {
      "cell_type": "code",
      "metadata": {
        "colab": {
          "base_uri": "https://localhost:8080/"
        },
        "id": "_KQ5v6nbGHw_",
        "outputId": "8014ee7a-b3d1-4167-ccc1-b41efb7f4d24"
      },
      "source": [
        "#lda\n",
        "import math\n",
        "\n",
        "cls=np.zeros((40,5,10304))\n",
        "mu = np.zeros(40)\n",
        "for i in range(0,200,5):\n",
        "  cls[math.floor(i/5)]=train[i:i+5]\n",
        "  #print(cls.shape)\n",
        "  mu=np.mean(cls,axis=1)\n",
        "print(mu)\n",
        "print(mu.shape)\n",
        "print(\"\\n\")\n",
        "mu=mu[:, np.newaxis]\n",
        "print(mu.shape)\n",
        "print(\"\\n\")\n",
        "mean_all=np.mean(train,axis=0)\n",
        "print(mean_all)\n",
        "print(mean_all.shape)\n",
        "sb=np.zeros((10304,10304))\n",
        "for i in range(40):\n",
        "  sb+=5*np.dot((mu[i]-mean_all).T,(mu[i]-mean_all))\n",
        "print(sb)\n",
        "\n",
        "\n",
        "z=np.zeros((40,10304,5))\n",
        "#s=np.zeros((40,10304,10304))\n",
        "\n",
        "print(cls[i].shape)\n",
        "ss=np.zeros((10304,10304))\n",
        "print(z[i].shape)\n",
        "for i in range(40):\n",
        "  z[i]=cls[i].T-mu[i].T\n",
        "  s_i=np.dot(z[i],z[i].T)\n",
        "  ss=ss+s_i \n",
        "s_inv=np.linalg.inv(ss) \n",
        "print(s_inv) \n",
        "eign_vals, eign_vecs = np.linalg.eigh(np.dot(s_inv,sb))\n",
        "\n",
        "idx = eign_vals.argsort()[::-1] \n",
        "eign_vals = eign_vals[idx]\n",
        "eign_vecs =eign_vecs[:,idx] \n",
        "\n",
        "mat = eign_vecs[:,:39]\n",
        "print(mat)"
      ],
      "execution_count": null,
      "outputs": [
        {
          "output_type": "stream",
          "text": [
            "[[ 46.8  51.4  53.8 ...  37.6  37.8  38.6]\n",
            " [ 36.2  35.8  36.  ...  97.4  99.8  97.2]\n",
            " [103.6 107.  104.4 ...  47.2  49.6  47. ]\n",
            " ...\n",
            " [106.2 109.2 107.4 ...  70.   63.4  61.8]\n",
            " [ 84.6  87.2  83.8 ... 127.  123.4 122.8]\n",
            " [125.2 123.6 125.4 ...  78.4  82.   77.8]]\n",
            "(40, 10304)\n",
            "\n",
            "\n",
            "(40, 1, 10304)\n",
            "\n",
            "\n",
            "[86.115 86.265 86.685 ... 76.5   77.395 77.085]\n",
            "(10304,)\n",
            "[[221513.555 220621.705 218488.645 ... -16726.5   -21288.885 -10780.955]\n",
            " [220621.705 220582.155 218178.495 ... -18392.1   -22588.335 -11850.305]\n",
            " [218488.645 218178.495 216305.155 ... -18975.3   -23655.315 -13299.645]\n",
            " ...\n",
            " [-16726.5   -18392.1   -18975.3   ... 298757.2   305832.7   291714.1  ]\n",
            " [-21288.885 -22588.335 -23655.315 ... 305832.7   318949.395 305942.485]\n",
            " [-10780.955 -11850.305 -13299.645 ... 291714.1   305942.485 300057.155]]\n",
            "(5, 10304)\n",
            "(10304, 5)\n",
            "[[ 3.73751691e+09  4.63390724e+09  6.99593809e+09 ... -2.51773894e+09\n",
            "   1.27491478e+09  1.12333102e+10]\n",
            " [-8.69178826e+08  6.18135389e+09 -1.05238552e+11 ... -2.18244786e+10\n",
            "  -2.50493721e+10 -5.21425203e+10]\n",
            " [-5.24095606e+09  7.31007122e+09 -4.63008041e+10 ... -9.87362476e+09\n",
            "  -2.44314529e+10 -2.83887972e+10]\n",
            " ...\n",
            " [-9.86158297e+08 -2.27210106e+09  1.14466190e+10 ...  4.28319689e+09\n",
            "   3.99665875e+09  5.33399976e+09]\n",
            " [-8.60001485e+08 -1.11421525e+09 -6.84727096e+09 ... -3.87153938e+08\n",
            "  -4.58632008e+08 -3.50772762e+09]\n",
            " [ 1.06163790e+09  7.02729145e+08 -1.25676691e+10 ... -4.53751325e+09\n",
            "  -4.14110307e+09 -5.03263018e+09]]\n",
            "[[-0.0173771   0.01058705 -0.01392619 ...  0.0331968  -0.00093766\n",
            "   0.01756377]\n",
            " [-0.01743494  0.01104095 -0.01404117 ...  0.03143917 -0.00054173\n",
            "   0.01728738]\n",
            " [-0.01757997  0.01083349 -0.01387956 ...  0.03467212 -0.00078387\n",
            "   0.01888958]\n",
            " ...\n",
            " [ 0.00890904  0.01587971  0.00527573 ... -0.00960561  0.00017397\n",
            "   0.01306499]\n",
            " [ 0.00046716 -0.00997297  0.00749582 ...  0.01318281 -0.00585893\n",
            "  -0.01268392]\n",
            " [-0.00719696 -0.018661   -0.00543545 ...  0.0081217  -0.00296858\n",
            "  -0.00929378]]\n"
          ],
          "name": "stdout"
        }
      ]
    },
    {
      "cell_type": "code",
      "metadata": {
        "colab": {
          "base_uri": "https://localhost:8080/"
        },
        "id": "UdCA1CuLdnZX",
        "outputId": "f84fc122-aec7-4f03-f98c-f0d5196dd26d"
      },
      "source": [
        "from sklearn.neighbors import KNeighborsClassifier\n",
        "accuracy_PCA = []\n",
        "accuracy_LDA = []\n",
        "projected_train=np.dot(train,mat)\n",
        "projected_test=np.dot(test,mat)\n",
        "neighbors = [1,3,5,7]\n",
        "for i in neighbors :\n",
        "  neigh_LDA = KNeighborsClassifier(n_neighbors=i,weights = 'distance')\n",
        "  neigh_PCA = KNeighborsClassifier(n_neighbors=i,weights = 'distance')\n",
        "  neigh_LDA.fit(projected_train,train_labels)\n",
        "  neigh_PCA.fit(projected_train1,train_labels)\n",
        "  accuracy_LDA.append(neigh_LDA.score(projected_test,test_labels))\n",
        "  print(accuracy_LDA[-1])\n",
        "  accuracy_PCA.append(neigh_PCA.score(projected_test1,test_labels))\n",
        "   "
      ],
      "execution_count": null,
      "outputs": [
        {
          "output_type": "stream",
          "text": [
            "0.945\n",
            "0.9\n",
            "0.9\n",
            "0.89\n"
          ],
          "name": "stdout"
        }
      ]
    },
    {
      "cell_type": "markdown",
      "metadata": {
        "id": "qvZEUbi9Ua1y"
      },
      "source": [
        "Diffrence betwee LDA and PCA \n"
      ]
    },
    {
      "cell_type": "code",
      "metadata": {
        "colab": {
          "base_uri": "https://localhost:8080/",
          "height": 294
        },
        "id": "cvLPXyGNf3DD",
        "outputId": "e990d86f-b10c-41a5-eb94-f33660993717"
      },
      "source": [
        "import matplotlib.pyplot as plt\n",
        "\n",
        "\n",
        "line_chart1 = plt.plot(neighbors, accuracy_LDA)\n",
        "line_chart2 = plt.plot(neighbors, accuracy_PCA)\n",
        "plt.title('LDA vs PCA')\n",
        "plt.xlabel('No of neighbours')\n",
        "plt.ylabel('accuracy')\n",
        "plt.legend(['LDA', 'PCA'], loc=4)\n",
        "plt.show()\n"
      ],
      "execution_count": null,
      "outputs": [
        {
          "output_type": "display_data",
          "data": {
            "image/png": "[encoded data removed]",
            "text/plain": [
              "<Figure size 432x288 with 1 Axes>"
            ]
          },
          "metadata": {
            "tags": []
          }
        }
      ]
    },
    {
      "cell_type": "code",
      "metadata": {
        "colab": {
          "base_uri": "https://localhost:8080/"
        },
        "id": "9t0E7SwkdiLp",
        "outputId": "18e836c3-61f4-4077-ac28-caa7613cd73c"
      },
      "source": [
        "! mkdir /content/NonFaces\n",
        "! unzip /content/Dataset2-20210430T202501Z-001.zip -d /content/NonFaces\n"
      ],
      "execution_count": null,
      "outputs": [
        {
          "output_type": "stream",
          "text": [
            "Archive:  /content/Dataset2-20210430T202501Z-001.zip\n",
            "  inflating: /content/NonFaces/Dataset2/1/21106.jpg  \n",
            "  inflating: /content/NonFaces/Dataset2/17/20225.jpg  \n",
            "  inflating: /content/NonFaces/Dataset2/1/20978.jpg  \n",
            "  inflating: /content/NonFaces/Dataset2/1/21091.jpg  \n",
            "  inflating: /content/NonFaces/Dataset2/1/20986.jpg  \n",
            "  inflating: /content/NonFaces/Dataset2/1/21001.jpg  \n",
            "  inflating: /content/NonFaces/Dataset2/1/20983.jpg  \n",
            "  inflating: /content/NonFaces/Dataset2/10/20556.jpg  \n",
            "  inflating: /content/NonFaces/Dataset2/1/20980.jpg  \n",
            "  inflating: /content/NonFaces/Dataset2/1/21052.jpg  \n",
            "  inflating: /content/NonFaces/Dataset2/1/21046.jpg  \n",
            "  inflating: /content/NonFaces/Dataset2/1/30000.jpg  \n",
            "  inflating: /content/NonFaces/Dataset2/1/20996.jpg  \n",
            "  inflating: /content/NonFaces/Dataset2/1/21097.jpg  \n",
            "  inflating: /content/NonFaces/Dataset2/10/20558.jpg  \n",
            "  inflating: /content/NonFaces/Dataset2/1/21125.jpg  \n",
            "  inflating: /content/NonFaces/Dataset2/10/20559.jpg  \n",
            "  inflating: /content/NonFaces/Dataset2/10/20512.jpg  \n",
            "  inflating: /content/NonFaces/Dataset2/1/20985.jpg  \n",
            "  inflating: /content/NonFaces/Dataset2/10/20539.jpg  \n",
            "  inflating: /content/NonFaces/Dataset2/1/21095.jpg  \n",
            "  inflating: /content/NonFaces/Dataset2/17/20187.jpg  \n",
            "  inflating: /content/NonFaces/Dataset2/10/20517.jpg  \n",
            "  inflating: /content/NonFaces/Dataset2/1/20984.jpg  \n",
            "  inflating: /content/NonFaces/Dataset2/17/20216.jpg  \n",
            "  inflating: /content/NonFaces/Dataset2/1/21105.jpg  \n",
            "  inflating: /content/NonFaces/Dataset2/1/21087.jpg  \n",
            "  inflating: /content/NonFaces/Dataset2/1/21020.jpg  \n",
            "  inflating: /content/NonFaces/Dataset2/17/20189.jpg  \n",
            "  inflating: /content/NonFaces/Dataset2/1/21016.jpg  \n",
            "  inflating: /content/NonFaces/Dataset2/10/20533.jpg  \n",
            "  inflating: /content/NonFaces/Dataset2/17/20181.jpg  \n",
            "  inflating: /content/NonFaces/Dataset2/17/20202.jpg  \n",
            "  inflating: /content/NonFaces/Dataset2/17/20183.jpg  \n",
            "  inflating: /content/NonFaces/Dataset2/17/20204.jpg  \n",
            "  inflating: /content/NonFaces/Dataset2/17/20209.jpg  \n",
            "  inflating: /content/NonFaces/Dataset2/17/20194.jpg  \n",
            "  inflating: /content/NonFaces/Dataset2/17/20195.jpg  \n",
            "  inflating: /content/NonFaces/Dataset2/10/20560.jpg  \n",
            "  inflating: /content/NonFaces/Dataset2/10/20554.jpg  \n",
            "  inflating: /content/NonFaces/Dataset2/17/20211.jpg  \n",
            "  inflating: /content/NonFaces/Dataset2/10/20540.jpg  \n",
            "  inflating: /content/NonFaces/Dataset2/10/20527.jpg  \n",
            "  inflating: /content/NonFaces/Dataset2/10/20537.jpg  \n",
            "  inflating: /content/NonFaces/Dataset2/17/20222.jpg  \n",
            "  inflating: /content/NonFaces/Dataset2/17/20226.jpg  \n",
            "  inflating: /content/NonFaces/Dataset2/17/20229.jpg  \n",
            "  inflating: /content/NonFaces/Dataset2/10/20561.jpg  \n",
            "  inflating: /content/NonFaces/Dataset2/10/20510.jpg  \n",
            "  inflating: /content/NonFaces/Dataset2/17/20210.jpg  \n",
            "  inflating: /content/NonFaces/Dataset2/10/20563.jpg  \n",
            "  inflating: /content/NonFaces/Dataset2/5/20782.jpg  \n",
            "  inflating: /content/NonFaces/Dataset2/17/20221.jpg  \n",
            "  inflating: /content/NonFaces/Dataset2/5/20754.jpg  \n",
            "  inflating: /content/NonFaces/Dataset2/10/20535.jpg  \n",
            "  inflating: /content/NonFaces/Dataset2/10/20522.jpg  \n",
            "  inflating: /content/NonFaces/Dataset2/17/20184.jpg  \n",
            "  inflating: /content/NonFaces/Dataset2/5/20779.jpg  \n",
            "  inflating: /content/NonFaces/Dataset2/10/20545.jpg  \n",
            "  inflating: /content/NonFaces/Dataset2/5/20781.jpg  \n",
            "  inflating: /content/NonFaces/Dataset2/5/20757.jpg  \n",
            "  inflating: /content/NonFaces/Dataset2/17/20179.jpg  \n",
            "  inflating: /content/NonFaces/Dataset2/5/20763.jpg  \n",
            "  inflating: /content/NonFaces/Dataset2/5/20762.jpg  \n",
            "  inflating: /content/NonFaces/Dataset2/5/20767.jpg  \n",
            "  inflating: /content/NonFaces/Dataset2/5/20785.jpg  \n",
            "  inflating: /content/NonFaces/Dataset2/13/20401.jpg  \n",
            "  inflating: /content/NonFaces/Dataset2/5/20761.jpg  \n",
            "  inflating: /content/NonFaces/Dataset2/13/20405.jpg  \n",
            "  inflating: /content/NonFaces/Dataset2/5/20798.jpg  \n",
            "  inflating: /content/NonFaces/Dataset2/5/20801.jpg  \n",
            "  inflating: /content/NonFaces/Dataset2/13/20409.jpg  \n",
            "  inflating: /content/NonFaces/Dataset2/5/20774.jpg  \n",
            "  inflating: /content/NonFaces/Dataset2/5/20751.jpg  \n",
            "  inflating: /content/NonFaces/Dataset2/5/20794.jpg  \n",
            "  inflating: /content/NonFaces/Dataset2/5/20765.jpg  \n",
            "  inflating: /content/NonFaces/Dataset2/5/20783.jpg  \n",
            "  inflating: /content/NonFaces/Dataset2/13/20384.jpg  \n",
            "  inflating: /content/NonFaces/Dataset2/13/20408.jpg  \n",
            "  inflating: /content/NonFaces/Dataset2/13/20378.jpg  \n",
            "  inflating: /content/NonFaces/Dataset2/10/20528.jpg  \n",
            "  inflating: /content/NonFaces/Dataset2/13/20400.jpg  \n",
            "  inflating: /content/NonFaces/Dataset2/13/20383.jpg  \n",
            "  inflating: /content/NonFaces/Dataset2/10/20544.jpg  \n",
            "  inflating: /content/NonFaces/Dataset2/13/20387.jpg  \n",
            "  inflating: /content/NonFaces/Dataset2/13/20406.jpg  \n",
            "  inflating: /content/NonFaces/Dataset2/5/20770.jpg  \n",
            "  inflating: /content/NonFaces/Dataset2/5/20756.jpg  \n",
            "  inflating: /content/NonFaces/Dataset2/5/20796.jpg  \n",
            "  inflating: /content/NonFaces/Dataset2/13/20373.jpg  \n",
            "  inflating: /content/NonFaces/Dataset2/13/20397.jpg  \n",
            "  inflating: /content/NonFaces/Dataset2/13/20380.jpg  \n",
            "  inflating: /content/NonFaces/Dataset2/13/20372.jpg  \n",
            "  inflating: /content/NonFaces/Dataset2/13/20411.jpg  \n",
            "  inflating: /content/NonFaces/Dataset2/13/20398.jpg  \n",
            "  inflating: /content/NonFaces/Dataset2/13/20413.jpg  \n",
            "  inflating: /content/NonFaces/Dataset2/13/20388.jpg  \n",
            "  inflating: /content/NonFaces/Dataset2/18/20154.jpg  \n",
            "  inflating: /content/NonFaces/Dataset2/13/20379.jpg  \n",
            "  inflating: /content/NonFaces/Dataset2/13/20386.jpg  \n",
            "  inflating: /content/NonFaces/Dataset2/18/20162.jpg  \n",
            "  inflating: /content/NonFaces/Dataset2/18/20152.jpg  \n",
            "  inflating: /content/NonFaces/Dataset2/18/20163.jpg  \n",
            "  inflating: /content/NonFaces/Dataset2/18/20159.jpg  \n",
            "  inflating: /content/NonFaces/Dataset2/18/20173.jpg  \n",
            "  inflating: /content/NonFaces/Dataset2/18/20153.jpg  \n",
            "  inflating: /content/NonFaces/Dataset2/18/20147.jpg  \n",
            "  inflating: /content/NonFaces/Dataset2/19/20093.jpg  \n",
            "  inflating: /content/NonFaces/Dataset2/18/20178.jpg  \n",
            "  inflating: /content/NonFaces/Dataset2/19/20137.jpg  \n",
            "  inflating: /content/NonFaces/Dataset2/19/20091.jpg  \n",
            "  inflating: /content/NonFaces/Dataset2/18/20150.jpg  \n",
            "  inflating: /content/NonFaces/Dataset2/18/20151.jpg  \n",
            "  inflating: /content/NonFaces/Dataset2/18/20176.jpg  \n",
            "  inflating: /content/NonFaces/Dataset2/18/20164.jpg  \n",
            "  inflating: /content/NonFaces/Dataset2/19/20092.jpg  \n",
            "  inflating: /content/NonFaces/Dataset2/18/20160.jpg  \n",
            "  inflating: /content/NonFaces/Dataset2/18/20158.jpg  \n",
            "  inflating: /content/NonFaces/Dataset2/18/20166.jpg  \n",
            "  inflating: /content/NonFaces/Dataset2/19/20117.jpg  \n",
            "  inflating: /content/NonFaces/Dataset2/19/20109.jpg  \n",
            "  inflating: /content/NonFaces/Dataset2/18/20175.jpg  \n",
            "  inflating: /content/NonFaces/Dataset2/18/20174.jpg  \n",
            "  inflating: /content/NonFaces/Dataset2/19/20100.jpg  \n",
            "  inflating: /content/NonFaces/Dataset2/19/20107.jpg  \n",
            "  inflating: /content/NonFaces/Dataset2/15/20317.jpg  \n",
            "  inflating: /content/NonFaces/Dataset2/19/20111.jpg  \n",
            "  inflating: /content/NonFaces/Dataset2/15/20318.jpg  \n",
            "  inflating: /content/NonFaces/Dataset2/19/20127.jpg  \n",
            "  inflating: /content/NonFaces/Dataset2/18/20161.jpg  \n",
            "  inflating: /content/NonFaces/Dataset2/15/20326.jpg  \n",
            "  inflating: /content/NonFaces/Dataset2/19/20108.jpg  \n",
            "  inflating: /content/NonFaces/Dataset2/19/20098.jpg  \n",
            "  inflating: /content/NonFaces/Dataset2/19/20142.jpg  \n",
            "  inflating: /content/NonFaces/Dataset2/19/20095.jpg  \n",
            "  inflating: /content/NonFaces/Dataset2/19/20116.jpg  \n",
            "  inflating: /content/NonFaces/Dataset2/15/20327.jpg  \n",
            "  inflating: /content/NonFaces/Dataset2/19/20136.jpg  \n",
            "  inflating: /content/NonFaces/Dataset2/15/20328.jpg  \n",
            "  inflating: /content/NonFaces/Dataset2/15/20314.jpg  \n",
            "  inflating: /content/NonFaces/Dataset2/15/20292.jpg  \n",
            "  inflating: /content/NonFaces/Dataset2/19/20120.jpg  \n",
            "  inflating: /content/NonFaces/Dataset2/15/20299.jpg  \n",
            "  inflating: /content/NonFaces/Dataset2/15/20315.jpg  \n",
            "  inflating: /content/NonFaces/Dataset2/15/20311.jpg  \n",
            "  inflating: /content/NonFaces/Dataset2/15/20293.jpg  \n",
            "  inflating: /content/NonFaces/Dataset2/15/20306.jpg  \n",
            "  inflating: /content/NonFaces/Dataset2/19/20144.jpg  \n",
            "  inflating: /content/NonFaces/Dataset2/15/20297.jpg  \n",
            "  inflating: /content/NonFaces/Dataset2/15/20303.jpg  \n",
            "  inflating: /content/NonFaces/Dataset2/15/20310.jpg  \n",
            "  inflating: /content/NonFaces/Dataset2/15/20304.jpg  \n",
            "  inflating: /content/NonFaces/Dataset2/15/20319.jpg  \n",
            "  inflating: /content/NonFaces/Dataset2/19/20123.jpg  \n",
            "  inflating: /content/NonFaces/Dataset2/11/20479.jpg  \n",
            "  inflating: /content/NonFaces/Dataset2/15/20307.jpg  \n",
            "  inflating: /content/NonFaces/Dataset2/11/20474.jpg  \n",
            "  inflating: /content/NonFaces/Dataset2/11/20475.jpg  \n",
            "  inflating: /content/NonFaces/Dataset2/19/20129.jpg  \n",
            "  inflating: /content/NonFaces/Dataset2/11/20486.jpg  \n",
            "  inflating: /content/NonFaces/Dataset2/11/20493.jpg  \n",
            "  inflating: /content/NonFaces/Dataset2/15/20329.jpg  \n",
            "  inflating: /content/NonFaces/Dataset2/11/20464.jpg  \n",
            "  inflating: /content/NonFaces/Dataset2/11/20508.jpg  \n",
            "  inflating: /content/NonFaces/Dataset2/11/20491.jpg  \n",
            "  inflating: /content/NonFaces/Dataset2/18/20157.jpg  \n",
            "  inflating: /content/NonFaces/Dataset2/11/20487.jpg  \n",
            "  inflating: /content/NonFaces/Dataset2/11/20477.jpg  \n",
            "  inflating: /content/NonFaces/Dataset2/11/20490.jpg  \n",
            "  inflating: /content/NonFaces/Dataset2/11/20498.jpg  \n",
            "  inflating: /content/NonFaces/Dataset2/11/20497.jpg  \n",
            "  inflating: /content/NonFaces/Dataset2/11/20495.jpg  \n",
            "  inflating: /content/NonFaces/Dataset2/11/20502.jpg  \n",
            "  inflating: /content/NonFaces/Dataset2/11/20482.jpg  \n",
            "  inflating: /content/NonFaces/Dataset2/11/20484.jpg  \n",
            "  inflating: /content/NonFaces/Dataset2/11/20467.jpg  \n",
            "  inflating: /content/NonFaces/Dataset2/3/20854.jpg  \n",
            "  inflating: /content/NonFaces/Dataset2/11/20489.jpg  \n",
            "  inflating: /content/NonFaces/Dataset2/3/20857.jpg  \n",
            "  inflating: /content/NonFaces/Dataset2/11/20459.jpg  \n",
            "  inflating: /content/NonFaces/Dataset2/9/20584.jpg  \n",
            "  inflating: /content/NonFaces/Dataset2/3/20876.jpg  \n",
            "  inflating: /content/NonFaces/Dataset2/9/20577.jpg  \n",
            "  inflating: /content/NonFaces/Dataset2/9/20590.jpg  \n",
            "  inflating: /content/NonFaces/Dataset2/9/20571.jpg  \n",
            "  inflating: /content/NonFaces/Dataset2/9/20565.jpg  \n",
            "  inflating: /content/NonFaces/Dataset2/3/20871.jpg  \n",
            "  inflating: /content/NonFaces/Dataset2/9/20591.jpg  \n",
            "  inflating: /content/NonFaces/Dataset2/3/20851.jpg  \n",
            "  inflating: /content/NonFaces/Dataset2/3/20892.jpg  \n",
            "  inflating: /content/NonFaces/Dataset2/9/20598.jpg  \n",
            "  inflating: /content/NonFaces/Dataset2/9/20576.jpg  \n",
            "  inflating: /content/NonFaces/Dataset2/9/20586.jpg  \n",
            "  inflating: /content/NonFaces/Dataset2/3/20885.jpg  \n",
            "  inflating: /content/NonFaces/Dataset2/3/20864.jpg  \n",
            "  inflating: /content/NonFaces/Dataset2/9/20585.jpg  \n",
            "  inflating: /content/NonFaces/Dataset2/3/20868.jpg  \n",
            "  inflating: /content/NonFaces/Dataset2/3/20860.jpg  \n",
            "  inflating: /content/NonFaces/Dataset2/3/20888.jpg  \n",
            "  inflating: /content/NonFaces/Dataset2/9/20589.jpg  \n",
            "  inflating: /content/NonFaces/Dataset2/9/20592.jpg  \n",
            "  inflating: /content/NonFaces/Dataset2/3/20863.jpg  \n",
            "  inflating: /content/NonFaces/Dataset2/9/20567.jpg  \n",
            "  inflating: /content/NonFaces/Dataset2/9/20572.jpg  \n",
            "  inflating: /content/NonFaces/Dataset2/9/20568.jpg  \n",
            "  inflating: /content/NonFaces/Dataset2/3/20853.jpg  \n",
            "  inflating: /content/NonFaces/Dataset2/9/20596.jpg  \n",
            "  inflating: /content/NonFaces/Dataset2/3/20866.jpg  \n",
            "  inflating: /content/NonFaces/Dataset2/3/20887.jpg  \n",
            "  inflating: /content/NonFaces/Dataset2/3/20894.jpg  \n",
            "  inflating: /content/NonFaces/Dataset2/3/20884.jpg  \n",
            "  inflating: /content/NonFaces/Dataset2/9/20570.jpg  \n",
            "  inflating: /content/NonFaces/Dataset2/9/20564.jpg  \n",
            "  inflating: /content/NonFaces/Dataset2/3/20872.jpg  \n",
            "  inflating: /content/NonFaces/Dataset2/9/20566.jpg  \n",
            "  inflating: /content/NonFaces/Dataset2/12/20438.jpg  \n",
            "  inflating: /content/NonFaces/Dataset2/3/20870.jpg  \n",
            "  inflating: /content/NonFaces/Dataset2/8/20617.jpg  \n",
            "  inflating: /content/NonFaces/Dataset2/8/20621.jpg  \n",
            "  inflating: /content/NonFaces/Dataset2/4/20816.jpg  \n",
            "  inflating: /content/NonFaces/Dataset2/8/20608.jpg  \n",
            "  inflating: /content/NonFaces/Dataset2/12/20450.jpg  \n",
            "  inflating: /content/NonFaces/Dataset2/4/20831.jpg  \n",
            "  inflating: /content/NonFaces/Dataset2/4/20833.jpg  \n",
            "  inflating: /content/NonFaces/Dataset2/17/20227.jpg  \n",
            "  inflating: /content/NonFaces/Dataset2/12/20416.jpg  \n",
            "  inflating: /content/NonFaces/Dataset2/8/20612.jpg  \n",
            "  inflating: /content/NonFaces/Dataset2/12/20433.jpg  \n",
            "  inflating: /content/NonFaces/Dataset2/4/20842.jpg  \n",
            "  inflating: /content/NonFaces/Dataset2/9/20582.jpg  \n",
            "  inflating: /content/NonFaces/Dataset2/12/20427.jpg  \n",
            "  inflating: /content/NonFaces/Dataset2/8/20653.jpg  \n",
            "  inflating: /content/NonFaces/Dataset2/8/20616.jpg  \n",
            "  inflating: /content/NonFaces/Dataset2/12/20455.jpg  \n",
            "  inflating: /content/NonFaces/Dataset2/4/20810.jpg  \n",
            "  inflating: /content/NonFaces/Dataset2/4/20815.jpg  \n",
            "  inflating: /content/NonFaces/Dataset2/3/20867.jpg  \n",
            "  inflating: /content/NonFaces/Dataset2/12/20440.jpg  \n",
            "  inflating: /content/NonFaces/Dataset2/15/20296.jpg  \n",
            "  inflating: /content/NonFaces/Dataset2/4/20802.jpg  \n",
            "  inflating: /content/NonFaces/Dataset2/12/20447.jpg  \n",
            "  inflating: /content/NonFaces/Dataset2/12/20446.jpg  \n",
            "  inflating: /content/NonFaces/Dataset2/8/20652.jpg  \n",
            "  inflating: /content/NonFaces/Dataset2/8/20624.jpg  \n",
            "  inflating: /content/NonFaces/Dataset2/8/20615.jpg  \n",
            "  inflating: /content/NonFaces/Dataset2/4/20835.jpg  \n",
            "  inflating: /content/NonFaces/Dataset2/12/20448.jpg  \n",
            "  inflating: /content/NonFaces/Dataset2/12/20435.jpg  \n",
            "  inflating: /content/NonFaces/Dataset2/8/20605.jpg  \n",
            "  inflating: /content/NonFaces/Dataset2/4/20821.jpg  \n",
            "  inflating: /content/NonFaces/Dataset2/14/20363.jpg  \n",
            "  inflating: /content/NonFaces/Dataset2/14/20336.jpg  \n",
            "  inflating: /content/NonFaces/Dataset2/4/20838.jpg  \n",
            "  inflating: /content/NonFaces/Dataset2/4/20832.jpg  \n",
            "  inflating: /content/NonFaces/Dataset2/12/20423.jpg  \n",
            "  inflating: /content/NonFaces/Dataset2/4/20806.jpg  \n",
            "  inflating: /content/NonFaces/Dataset2/12/20418.jpg  \n",
            "  inflating: /content/NonFaces/Dataset2/14/20370.jpg  \n",
            "  inflating: /content/NonFaces/Dataset2/8/20620.jpg  \n",
            "  inflating: /content/NonFaces/Dataset2/14/20365.jpg  \n",
            "  inflating: /content/NonFaces/Dataset2/8/20643.jpg  \n",
            "  inflating: /content/NonFaces/Dataset2/12/20421.jpg  \n",
            "  inflating: /content/NonFaces/Dataset2/12/20454.jpg  \n",
            "  inflating: /content/NonFaces/Dataset2/14/20359.jpg  \n",
            "  inflating: /content/NonFaces/Dataset2/4/20808.jpg  \n",
            "  inflating: /content/NonFaces/Dataset2/16/20253.jpg  \n",
            "  inflating: /content/NonFaces/Dataset2/12/20439.jpg  \n",
            "  inflating: /content/NonFaces/Dataset2/8/20642.jpg  \n",
            "  inflating: /content/NonFaces/Dataset2/12/20458.jpg  \n",
            "  inflating: /content/NonFaces/Dataset2/4/20813.jpg  \n",
            "  inflating: /content/NonFaces/Dataset2/14/20332.jpg  \n",
            "  inflating: /content/NonFaces/Dataset2/14/20362.jpg  \n",
            "  inflating: /content/NonFaces/Dataset2/16/20259.jpg  \n",
            "  inflating: /content/NonFaces/Dataset2/4/20812.jpg  \n",
            "  inflating: /content/NonFaces/Dataset2/8/20599.jpg  \n",
            "  inflating: /content/NonFaces/Dataset2/8/20650.jpg  \n",
            "  inflating: /content/NonFaces/Dataset2/4/20847.jpg  \n",
            "  inflating: /content/NonFaces/Dataset2/14/20331.jpg  \n",
            "  inflating: /content/NonFaces/Dataset2/8/20651.jpg  \n",
            "  inflating: /content/NonFaces/Dataset2/14/20345.jpg  \n",
            "  inflating: /content/NonFaces/Dataset2/14/20367.jpg  \n",
            "  inflating: /content/NonFaces/Dataset2/8/20638.jpg  \n",
            "  inflating: /content/NonFaces/Dataset2/8/20613.jpg  \n",
            "  inflating: /content/NonFaces/Dataset2/12/20443.jpg  \n",
            "  inflating: /content/NonFaces/Dataset2/7/20683.jpg  \n",
            "  inflating: /content/NonFaces/Dataset2/12/20457.jpg  \n",
            "  inflating: /content/NonFaces/Dataset2/8/20603.jpg  \n",
            "  inflating: /content/NonFaces/Dataset2/7/20686.jpg  \n",
            "  inflating: /content/NonFaces/Dataset2/16/20230.jpg  \n",
            "  inflating: /content/NonFaces/Dataset2/12/20432.jpg  \n",
            "  inflating: /content/NonFaces/Dataset2/14/20334.jpg  \n",
            "  inflating: /content/NonFaces/Dataset2/16/20238.jpg  \n",
            "  inflating: /content/NonFaces/Dataset2/16/20272.jpg  \n",
            "  inflating: /content/NonFaces/Dataset2/4/20825.jpg  \n",
            "  inflating: /content/NonFaces/Dataset2/14/20352.jpg  \n",
            "  inflating: /content/NonFaces/Dataset2/7/20668.jpg  \n",
            "  inflating: /content/NonFaces/Dataset2/16/20277.jpg  \n",
            "  inflating: /content/NonFaces/Dataset2/4/20843.jpg  \n",
            "  inflating: /content/NonFaces/Dataset2/14/20343.jpg  \n",
            "  inflating: /content/NonFaces/Dataset2/7/20703.jpg  \n",
            "  inflating: /content/NonFaces/Dataset2/16/20243.jpg  \n",
            "  inflating: /content/NonFaces/Dataset2/16/20276.jpg  \n",
            "  inflating: /content/NonFaces/Dataset2/4/20807.jpg  \n",
            "  inflating: /content/NonFaces/Dataset2/16/20271.jpg  \n",
            "  inflating: /content/NonFaces/Dataset2/4/20819.jpg  \n",
            "  inflating: /content/NonFaces/Dataset2/14/20357.jpg  \n",
            "  inflating: /content/NonFaces/Dataset2/14/20335.jpg  \n",
            "  inflating: /content/NonFaces/Dataset2/14/20353.jpg  \n",
            "  inflating: /content/NonFaces/Dataset2/7/20702.jpg  \n",
            "  inflating: /content/NonFaces/Dataset2/16/20260.jpg  \n",
            "  inflating: /content/NonFaces/Dataset2/14/20337.jpg  \n",
            "  inflating: /content/NonFaces/Dataset2/16/20234.jpg  \n",
            "  inflating: /content/NonFaces/Dataset2/8/20627.jpg  \n",
            "  inflating: /content/NonFaces/Dataset2/16/20288.jpg  \n",
            "  inflating: /content/NonFaces/Dataset2/14/20348.jpg  \n",
            "  inflating: /content/NonFaces/Dataset2/14/20330.jpg  \n",
            "  inflating: /content/NonFaces/Dataset2/7/20680.jpg  \n",
            "  inflating: /content/NonFaces/Dataset2/16/20287.jpg  \n",
            "  inflating: /content/NonFaces/Dataset2/7/20657.jpg  \n",
            "  inflating: /content/NonFaces/Dataset2/7/20677.jpg  \n",
            "  inflating: /content/NonFaces/Dataset2/7/20671.jpg  \n",
            "  inflating: /content/NonFaces/Dataset2/16/20274.jpg  \n",
            "  inflating: /content/NonFaces/Dataset2/16/20270.jpg  \n",
            "  inflating: /content/NonFaces/Dataset2/16/20266.jpg  \n",
            "  inflating: /content/NonFaces/Dataset2/16/20249.jpg  \n",
            "  inflating: /content/NonFaces/Dataset2/7/20665.jpg  \n",
            "  inflating: /content/NonFaces/Dataset2/16/20282.jpg  \n",
            "  inflating: /content/NonFaces/Dataset2/7/20662.jpg  \n",
            "  inflating: /content/NonFaces/Dataset2/14/20356.jpg  \n",
            "  inflating: /content/NonFaces/Dataset2/7/20676.jpg  \n",
            "  inflating: /content/NonFaces/Dataset2/7/20674.jpg  \n",
            "  inflating: /content/NonFaces/Dataset2/7/20658.jpg  \n",
            "  inflating: /content/NonFaces/Dataset2/7/20655.jpg  \n",
            "  inflating: /content/NonFaces/Dataset2/7/20684.jpg  \n",
            "  inflating: /content/NonFaces/Dataset2/7/20660.jpg  \n",
            "  inflating: /content/NonFaces/Dataset2/7/20690.jpg  \n",
            "  inflating: /content/NonFaces/Dataset2/16/20261.jpg  \n",
            "  inflating: /content/NonFaces/Dataset2/16/20252.jpg  \n",
            "  inflating: /content/NonFaces/Dataset2/7/20685.jpg  \n",
            "  inflating: /content/NonFaces/Dataset2/2/20900.jpg  \n",
            "  inflating: /content/NonFaces/Dataset2/2/20897.jpg  \n",
            "  inflating: /content/NonFaces/Dataset2/2/20976.jpg  \n",
            "  inflating: /content/NonFaces/Dataset2/2/20941.jpg  \n",
            "  inflating: /content/NonFaces/Dataset2/7/20670.jpg  \n",
            "  inflating: /content/NonFaces/Dataset2/2/20929.jpg  \n",
            "  inflating: /content/NonFaces/Dataset2/2/20958.jpg  \n",
            "  inflating: /content/NonFaces/Dataset2/2/20961.jpg  \n",
            "  inflating: /content/NonFaces/Dataset2/2/20930.jpg  \n",
            "  inflating: /content/NonFaces/Dataset2/2/20917.jpg  \n",
            "  inflating: /content/NonFaces/Dataset2/2/20908.jpg  \n",
            "  inflating: /content/NonFaces/Dataset2/2/20925.jpg  \n",
            "  inflating: /content/NonFaces/Dataset2/2/20921.jpg  \n",
            "  inflating: /content/NonFaces/Dataset2/2/20947.jpg  \n",
            "  inflating: /content/NonFaces/Dataset2/2/20971.jpg  \n",
            "  inflating: /content/NonFaces/Dataset2/2/20959.jpg  \n",
            "  inflating: /content/NonFaces/Dataset2/2/20974.jpg  \n",
            "  inflating: /content/NonFaces/Dataset2/6/20705.jpg  \n",
            "  inflating: /content/NonFaces/Dataset2/2/20938.jpg  \n",
            "  inflating: /content/NonFaces/Dataset2/2/20906.jpg  \n",
            "  inflating: /content/NonFaces/Dataset2/20/20082.jpg  \n",
            "  inflating: /content/NonFaces/Dataset2/2/20910.jpg  \n",
            "  inflating: /content/NonFaces/Dataset2/6/20739.jpg  \n",
            "  inflating: /content/NonFaces/Dataset2/6/20712.jpg  \n",
            "  inflating: /content/NonFaces/Dataset2/20/20071.jpg  \n",
            "  inflating: /content/NonFaces/Dataset2/2/20916.jpg  \n",
            "  inflating: /content/NonFaces/Dataset2/6/20731.jpg  \n",
            "  inflating: /content/NonFaces/Dataset2/6/20737.jpg  \n",
            "  inflating: /content/NonFaces/Dataset2/6/20734.jpg  \n",
            "  inflating: /content/NonFaces/Dataset2/6/20726.jpg  \n",
            "  inflating: /content/NonFaces/Dataset2/20/20062.jpg  \n",
            "  inflating: /content/NonFaces/Dataset2/6/20718.jpg  \n",
            "  inflating: /content/NonFaces/Dataset2/20/20089.jpg  \n",
            "  inflating: /content/NonFaces/Dataset2/6/20750.jpg  \n",
            "  inflating: /content/NonFaces/Dataset2/20/20056.jpg  \n",
            "  inflating: /content/NonFaces/Dataset2/6/20706.jpg  \n",
            "  inflating: /content/NonFaces/Dataset2/20/20069.jpg  \n",
            "  inflating: /content/NonFaces/Dataset2/6/20713.jpg  \n",
            "  inflating: /content/NonFaces/Dataset2/6/20742.jpg  \n",
            "  inflating: /content/NonFaces/Dataset2/6/20714.jpg  \n",
            "  inflating: /content/NonFaces/Dataset2/6/20738.jpg  \n",
            "  inflating: /content/NonFaces/Dataset2/6/20732.jpg  \n",
            "  inflating: /content/NonFaces/Dataset2/20/20080.jpg  \n",
            "  inflating: /content/NonFaces/Dataset2/6/20720.jpg  \n",
            "  inflating: /content/NonFaces/Dataset2/20/20084.jpg  \n",
            "  inflating: /content/NonFaces/Dataset2/6/20740.jpg  \n",
            "  inflating: /content/NonFaces/Dataset2/20/20088.jpg  \n",
            "  inflating: /content/NonFaces/Dataset2/6/20741.jpg  \n",
            "  inflating: /content/NonFaces/Dataset2/20/20067.jpg  \n",
            "  inflating: /content/NonFaces/Dataset2/6/20717.jpg  \n",
            "  inflating: /content/NonFaces/Dataset2/20/20090.jpg  \n",
            "  inflating: /content/NonFaces/Dataset2/20/20058.jpg  \n",
            "  inflating: /content/NonFaces/Dataset2/20/20075.jpg  \n",
            "  inflating: /content/NonFaces/Dataset2/20/20087.jpg  \n",
            "  inflating: /content/NonFaces/Dataset2/20/20066.jpg  \n",
            "  inflating: /content/NonFaces/Dataset2/6/20746.jpg  \n",
            "  inflating: /content/NonFaces/Dataset2/20/20079.jpg  \n",
            "  inflating: /content/NonFaces/Dataset2/20/20059.jpg  \n",
            "  inflating: /content/NonFaces/Dataset2/20/20068.jpg  \n",
            "  inflating: /content/NonFaces/Dataset2/20/20085.jpg  \n",
            "  inflating: /content/NonFaces/Dataset2/20/20070.jpg  \n"
          ],
          "name": "stdout"
        }
      ]
    },
    {
      "cell_type": "code",
      "metadata": {
        "id": "xCMcOx1KeB3D"
      },
      "source": [
        "import os\n",
        "from skimage.io import imread\n",
        "import numpy as np\n",
        "os.chdir('/content/NonFaces/Dataset2')\n",
        "directory = os.getcwd()\n",
        "files=os.listdir(directory)\n",
        "\n",
        "Dataset=[]\n",
        "\n",
        "\n",
        "for filename in files:\n",
        "    each_file=os.listdir(filename)\n",
        "    for image in each_file:\n",
        "      img = imread(os.getcwd()+'/'+filename+'/'+image)\n",
        "      Dataset.append(img.flatten())\n",
        "     \n",
        "data=np.array(Dataset)"
      ],
      "execution_count": null,
      "outputs": []
    },
    {
      "cell_type": "markdown",
      "metadata": {
        "id": "jDHMStt9UgMA"
      },
      "source": [
        "function That returns whole set of faces with a number of Non-faces data\n",
        "\n"
      ]
    },
    {
      "cell_type": "code",
      "metadata": {
        "id": "KyGtRg78eP-q"
      },
      "source": [
        "def cut(x) :\n",
        "  temp = data[0:x,:]\n",
        "  train_non = temp[::2,:]\n",
        "  test_non =temp[1::2,:]\n",
        "  z = np.zeros((train_non.shape[0],1))\n",
        "  train_non=np.append(train_non, z, axis=1)\n",
        "  z = np.zeros((test_non.shape[0],1))\n",
        "  test_non=np.append(test_non, z, axis=1)\n",
        "  temp =np.append(train,np.ones((train.shape[0],1)),axis=1)\n",
        "  train_non=np.append(train_non,temp,axis=0)\n",
        "  temp = np.append(test,np.ones((test.shape[0],1)),axis=1)\n",
        "  test_non=np.append(test_non,temp,axis=0)\n",
        "  print(test_non.shape)\n",
        "  return train_non ,test_non"
      ],
      "execution_count": null,
      "outputs": []
    },
    {
      "cell_type": "markdown",
      "metadata": {
        "id": "lRRfbrxmU2uW"
      },
      "source": [
        "Performing LDA on faces Vs non Faces classes and picking dominant vectors \n"
      ]
    },
    {
      "cell_type": "code",
      "metadata": {
        "colab": {
          "base_uri": "https://localhost:8080/"
        },
        "id": "p88DgrPHQkav",
        "outputId": "5105a1a1-1ea7-4acc-dd0b-12f2c5024cb7"
      },
      "source": [
        "samples = [10,50,100,250,400]\n",
        "for sample in samples : \n",
        "  print(\"no of samples : \",sample)\n",
        "  train1,test1=cut(sample)\n",
        "  mean = np.mean(train1)\n",
        "  D  =np.array(np.split(train1, np.unique(train1[:, -1], return_index=True)[1][1:]),dtype=object)\n",
        "  means = []\n",
        "  for i in D :\n",
        "    means.append(np.mean(i[:,0:-1],axis=0))\n",
        "  means = np.array(means)\n",
        "  sub = np.subtract(means[0] , means[1])\n",
        "  sub = sub.reshape(1,10304)\n",
        "  b = np.dot(sub.T, sub)\n",
        "  z= []\n",
        "  for Di,Ui in zip(D,means) :\n",
        "    temp = Di[:,0:-1]-Ui\n",
        "    z.append(temp)\n",
        "  z= np.array(z)\n",
        "  s = np.zeros((10304,10304))\n",
        "  for i in range(len(z)):\n",
        "    s += D[i].shape[0]*np.dot(z[i].T, z[i])\n",
        "  eigen_values_, eigen_vectors_ = np.linalg.eigh(np.dot(np.linalg.inv(s), b))  \n",
        "  eigVal =np.abs((eigen_values_))\n",
        "  eigVec=eigen_vectors_\n",
        "  idx_ = np.argsort(eigVal)[::-1]\n",
        "  eigVal = eigVal[idx_]\n",
        "  eigVec = eigVec[:,idx_]\n",
        "  eig_sum = np.sum(eigVal)\n",
        "  sumi = eigVal[0];\n",
        "  oldsum=0;\n",
        "  i=1;\n",
        "  while (sumi-oldsum)/eig_sum>0.01 :\n",
        "    i+=1\n",
        "    oldsum=sumi\n",
        "    sumi+=eigVal[i]\n",
        "  print(i)\n",
        "  dominant = eigVec[:i,:]  \n",
        "  from sklearn.neighbors import KNeighborsClassifier\n",
        "  from sklearn.metrics import accuracy_score\n",
        "\n",
        " \n",
        "  neighbors=np.array([1,3,5,7])\n",
        "  accuracy=[]\n",
        "  projected_train=np.dot(train1[:,0:-1],dominant.T)\n",
        "  projected_test=np.dot(test1[:,0:-1],dominant.T)\n",
        "  for neighbor_num in neighbors: \n",
        "    neigh = KNeighborsClassifier(n_neighbors=neighbor_num)\n",
        "    neigh.fit(projected_train,train1[:,-1])\n",
        "    accuracy.append(neigh.score(projected_test,test1[:,-1]))\n",
        "  print('Accuracy', accuracy)\n",
        "   \n"
      ],
      "execution_count": null,
      "outputs": [
        {
          "output_type": "stream",
          "text": [
            "no of samples :  10\n",
            "(200, 10304)\n"
          ],
          "name": "stdout"
        },
        {
          "output_type": "stream",
          "text": [
            "/usr/local/lib/python3.7/dist-packages/ipykernel_launcher.py:18: VisibleDeprecationWarning: Creating an ndarray from ragged nested sequences (which is a list-or-tuple of lists-or-tuples-or ndarrays with different lengths or shapes) is deprecated. If you meant to do this, you must specify 'dtype=object' when creating the ndarray\n"
          ],
          "name": "stderr"
        },
        {
          "output_type": "stream",
          "text": [
            "10\n",
            "Accuracy [0.975609756097561, 0.975609756097561, 0.975609756097561, 0.975609756097561]\n",
            "no of samples :  50\n",
            "(200, 10304)\n"
          ],
          "name": "stdout"
        },
        {
          "output_type": "stream",
          "text": [
            "/usr/local/lib/python3.7/dist-packages/ipykernel_launcher.py:18: VisibleDeprecationWarning: Creating an ndarray from ragged nested sequences (which is a list-or-tuple of lists-or-tuples-or ndarrays with different lengths or shapes) is deprecated. If you meant to do this, you must specify 'dtype=object' when creating the ndarray\n"
          ],
          "name": "stderr"
        },
        {
          "output_type": "stream",
          "text": [
            "10\n",
            "Accuracy [0.9244444444444444, 0.9244444444444444, 0.9111111111111111, 0.9022222222222223]\n",
            "no of samples :  100\n",
            "(200, 10304)\n"
          ],
          "name": "stdout"
        },
        {
          "output_type": "stream",
          "text": [
            "/usr/local/lib/python3.7/dist-packages/ipykernel_launcher.py:18: VisibleDeprecationWarning: Creating an ndarray from ragged nested sequences (which is a list-or-tuple of lists-or-tuples-or ndarrays with different lengths or shapes) is deprecated. If you meant to do this, you must specify 'dtype=object' when creating the ndarray\n"
          ],
          "name": "stderr"
        },
        {
          "output_type": "stream",
          "text": [
            "10\n",
            "Accuracy [0.916, 0.904, 0.888, 0.876]\n",
            "no of samples :  250\n",
            "(200, 10304)\n"
          ],
          "name": "stdout"
        },
        {
          "output_type": "stream",
          "text": [
            "/usr/local/lib/python3.7/dist-packages/ipykernel_launcher.py:18: VisibleDeprecationWarning: Creating an ndarray from ragged nested sequences (which is a list-or-tuple of lists-or-tuples-or ndarrays with different lengths or shapes) is deprecated. If you meant to do this, you must specify 'dtype=object' when creating the ndarray\n"
          ],
          "name": "stderr"
        },
        {
          "output_type": "stream",
          "text": [
            "10\n",
            "Accuracy [0.8676923076923077, 0.8646153846153846, 0.8584615384615385, 0.8461538461538461]\n",
            "no of samples :  400\n",
            "(200, 10304)\n"
          ],
          "name": "stdout"
        }
      ]
    }
  ]
}